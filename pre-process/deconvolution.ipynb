{
 "cells": [
  {
   "cell_type": "markdown",
   "metadata": {},
   "source": [
    "# **DECONVOLUTION**"
   ]
  },
  {
   "cell_type": "code",
   "execution_count": 17,
   "metadata": {},
   "outputs": [],
   "source": [
    "from __future__ import print_function\n",
    "import os\n",
    "import cv2\n",
    "import histomicstk as htk\n",
    "\n",
    "import numpy as np\n",
    "import scipy as sp\n",
    "\n",
    "import skimage.io\n",
    "import skimage.measure\n",
    "import skimage.color\n",
    "\n",
    "import time\n",
    "import matplotlib.pyplot as plt\n",
    "import matplotlib.patches as mpatches\n",
    "%matplotlib inline\n",
    "\n",
    "#Some nice default configuration for plots\n",
    "plt.rcParams['figure.figsize'] = 15, 15\n",
    "plt.rcParams['image.cmap'] = 'gray'\n",
    "titlesize = 24\n",
    "\n",
    "import copy\n",
    "from tqdm import tqdm"
   ]
  },
  {
   "cell_type": "code",
   "execution_count": 18,
   "metadata": {},
   "outputs": [],
   "source": [
    "base_img_path = 'val/'\n",
    "images = os.listdir(base_img_path)\n"
   ]
  },
  {
   "cell_type": "markdown",
   "metadata": {},
   "source": [
    "***Approach-1*** - Supervised color deconvolution with a known stain matrix"
   ]
  },
  {
   "cell_type": "code",
   "execution_count": 19,
   "metadata": {},
   "outputs": [],
   "source": [
    "def normalize(stain_OD):\n",
    "    normal_OD = []\n",
    "    for stain in stain_OD:\n",
    "        print(stain)\n",
    "        deno = 0\n",
    "        pow = [e*e for e in stain]\n",
    "        total = sum(pow)\n",
    "        temp = []\n",
    "        for ele in stain:\n",
    "            temp.append(ele/math.sqrt(total))\n",
    "        normal_OD.append(temp)\n",
    "    return np.asarray(normal_OD)"
   ]
  },
  {
   "cell_type": "code",
   "execution_count": 20,
   "metadata": {},
   "outputs": [],
   "source": [
    "\n",
    "def convert_to_optical_densities(rgb,r0,g0,b0):\n",
    "    OD = rgb.astype(float)\n",
    "    OD[:,:,0] /= r0\n",
    "    OD[:,:,1] /= g0\n",
    "    OD[:,:,2] /= b0\n",
    "\n",
    "    return -np.log(OD)\n",
    "\n",
    "def color_deconvolution(rgb,r0,g0,b0,verbose=False):\n",
    "    stain_OD = np.asarray([[0.18,0.20,0.08],[0.01,0.13,0.0166],[0.10,0.21,0.29]]) #hematoxylin, eosyn, DAB\n",
    "\n",
    "    \"\"\"\n",
    "    n = []\n",
    "    for r in stain_OD:\n",
    "        n.append(r/norm(r))\n",
    "    normalized_OD = np.asarray(n)\n",
    "    \"\"\"\n",
    "    \n",
    "    normalized_OD = normalize(stain_OD)\n",
    "    \n",
    "    #D = inv(normalized_OD)\n",
    "    D = np.linalg.inv(normalized_OD)\n",
    "    \n",
    "    OD = convert_to_optical_densities(rgb,r0,g0,b0)\n",
    "\n",
    "    ODmax = np.max(OD,axis=2)\n",
    "    plt.figure()\n",
    "    plt.imshow(ODmax>.1)\n",
    "\n",
    "    # reshape image on row per pixel\n",
    "    rOD = np.reshape(OD,(-1,3))\n",
    "    # do the deconvolution\n",
    "    rC = np.dot(rOD,D)\n",
    "\n",
    "    #restore image shape\n",
    "    C = np.reshape(rC,OD.shape)\n",
    "\n",
    "    #remove problematic pixels from the the mask\n",
    "    ODmax[np.isnan(C[:,:,0])] = 0\n",
    "    ODmax[np.isnan(C[:,:,1])] = 0\n",
    "    ODmax[np.isnan(C[:,:,2])] = 0\n",
    "    ODmax[np.isinf(C[:,:,0])] = 0\n",
    "    ODmax[np.isinf(C[:,:,1])] = 0\n",
    "    ODmax[np.isinf(C[:,:,2])] = 0\n",
    "\n",
    "    return (ODmax,C)"
   ]
  },
  {
   "cell_type": "code",
   "execution_count": 21,
   "metadata": {},
   "outputs": [],
   "source": [
    "def supervised_deconvolve(imInput):\n",
    "    # create stain to color map\n",
    "    stain_color_map = htk.preprocessing.color_deconvolution.stain_color_map\n",
    "    print('stain_color_map:', stain_color_map, sep='\\n')\n",
    "\n",
    "    # specify stains of input image\n",
    "    stains = ['hematoxylin',  # nuclei stain\n",
    "            'eosin',        # cytoplasm stain\n",
    "            'null']         # set to null if input contains only two stains\n",
    "\n",
    "    # create stain matrix\n",
    "    W = np.array([stain_color_map[st] for st in stains]).T\n",
    "\n",
    "    # perform standard color deconvolution\n",
    "    imDeconvolved = htk.preprocessing.color_deconvolution.color_deconvolution(imInput, W)\n",
    "    return imDeconvolved"
   ]
  },
  {
   "cell_type": "code",
   "execution_count": 22,
   "metadata": {},
   "outputs": [
    {
     "name": "stdout",
     "output_type": "stream",
     "text": [
      "stain_color_map:\n",
      "{'hematoxylin': [0.65, 0.7, 0.29], 'eosin': [0.07, 0.99, 0.11], 'dab': [0.27, 0.57, 0.78], 'null': [0.0, 0.0, 0.0]}\n",
      "stain_color_map:\n",
      "{'hematoxylin': [0.65, 0.7, 0.29], 'eosin': [0.07, 0.99, 0.11], 'dab': [0.27, 0.57, 0.78], 'null': [0.0, 0.0, 0.0]}\n",
      "stain_color_map:\n",
      "{'hematoxylin': [0.65, 0.7, 0.29], 'eosin': [0.07, 0.99, 0.11], 'dab': [0.27, 0.57, 0.78], 'null': [0.0, 0.0, 0.0]}\n",
      "stain_color_map:\n",
      "{'hematoxylin': [0.65, 0.7, 0.29], 'eosin': [0.07, 0.99, 0.11], 'dab': [0.27, 0.57, 0.78], 'null': [0.0, 0.0, 0.0]}\n",
      "stain_color_map:\n",
      "{'hematoxylin': [0.65, 0.7, 0.29], 'eosin': [0.07, 0.99, 0.11], 'dab': [0.27, 0.57, 0.78], 'null': [0.0, 0.0, 0.0]}\n",
      "stain_color_map:\n",
      "{'hematoxylin': [0.65, 0.7, 0.29], 'eosin': [0.07, 0.99, 0.11], 'dab': [0.27, 0.57, 0.78], 'null': [0.0, 0.0, 0.0]}\n",
      "stain_color_map:\n",
      "{'hematoxylin': [0.65, 0.7, 0.29], 'eosin': [0.07, 0.99, 0.11], 'dab': [0.27, 0.57, 0.78], 'null': [0.0, 0.0, 0.0]}\n",
      "stain_color_map:\n",
      "{'hematoxylin': [0.65, 0.7, 0.29], 'eosin': [0.07, 0.99, 0.11], 'dab': [0.27, 0.57, 0.78], 'null': [0.0, 0.0, 0.0]}\n",
      "stain_color_map:\n",
      "{'hematoxylin': [0.65, 0.7, 0.29], 'eosin': [0.07, 0.99, 0.11], 'dab': [0.27, 0.57, 0.78], 'null': [0.0, 0.0, 0.0]}\n",
      "stain_color_map:\n",
      "{'hematoxylin': [0.65, 0.7, 0.29], 'eosin': [0.07, 0.99, 0.11], 'dab': [0.27, 0.57, 0.78], 'null': [0.0, 0.0, 0.0]}\n",
      "stain_color_map:\n",
      "{'hematoxylin': [0.65, 0.7, 0.29], 'eosin': [0.07, 0.99, 0.11], 'dab': [0.27, 0.57, 0.78], 'null': [0.0, 0.0, 0.0]}\n",
      "stain_color_map:\n",
      "{'hematoxylin': [0.65, 0.7, 0.29], 'eosin': [0.07, 0.99, 0.11], 'dab': [0.27, 0.57, 0.78], 'null': [0.0, 0.0, 0.0]}\n",
      "stain_color_map:\n",
      "{'hematoxylin': [0.65, 0.7, 0.29], 'eosin': [0.07, 0.99, 0.11], 'dab': [0.27, 0.57, 0.78], 'null': [0.0, 0.0, 0.0]}\n",
      "stain_color_map:\n",
      "{'hematoxylin': [0.65, 0.7, 0.29], 'eosin': [0.07, 0.99, 0.11], 'dab': [0.27, 0.57, 0.78], 'null': [0.0, 0.0, 0.0]}\n",
      "stain_color_map:\n",
      "{'hematoxylin': [0.65, 0.7, 0.29], 'eosin': [0.07, 0.99, 0.11], 'dab': [0.27, 0.57, 0.78], 'null': [0.0, 0.0, 0.0]}\n",
      "stain_color_map:\n",
      "{'hematoxylin': [0.65, 0.7, 0.29], 'eosin': [0.07, 0.99, 0.11], 'dab': [0.27, 0.57, 0.78], 'null': [0.0, 0.0, 0.0]}\n",
      "stain_color_map:\n",
      "{'hematoxylin': [0.65, 0.7, 0.29], 'eosin': [0.07, 0.99, 0.11], 'dab': [0.27, 0.57, 0.78], 'null': [0.0, 0.0, 0.0]}\n",
      "stain_color_map:\n",
      "{'hematoxylin': [0.65, 0.7, 0.29], 'eosin': [0.07, 0.99, 0.11], 'dab': [0.27, 0.57, 0.78], 'null': [0.0, 0.0, 0.0]}\n",
      "stain_color_map:\n",
      "{'hematoxylin': [0.65, 0.7, 0.29], 'eosin': [0.07, 0.99, 0.11], 'dab': [0.27, 0.57, 0.78], 'null': [0.0, 0.0, 0.0]}\n",
      "stain_color_map:\n",
      "{'hematoxylin': [0.65, 0.7, 0.29], 'eosin': [0.07, 0.99, 0.11], 'dab': [0.27, 0.57, 0.78], 'null': [0.0, 0.0, 0.0]}\n",
      "stain_color_map:\n",
      "{'hematoxylin': [0.65, 0.7, 0.29], 'eosin': [0.07, 0.99, 0.11], 'dab': [0.27, 0.57, 0.78], 'null': [0.0, 0.0, 0.0]}\n",
      "stain_color_map:\n",
      "{'hematoxylin': [0.65, 0.7, 0.29], 'eosin': [0.07, 0.99, 0.11], 'dab': [0.27, 0.57, 0.78], 'null': [0.0, 0.0, 0.0]}\n",
      "stain_color_map:\n",
      "{'hematoxylin': [0.65, 0.7, 0.29], 'eosin': [0.07, 0.99, 0.11], 'dab': [0.27, 0.57, 0.78], 'null': [0.0, 0.0, 0.0]}\n",
      "stain_color_map:\n",
      "{'hematoxylin': [0.65, 0.7, 0.29], 'eosin': [0.07, 0.99, 0.11], 'dab': [0.27, 0.57, 0.78], 'null': [0.0, 0.0, 0.0]}\n"
     ]
    }
   ],
   "source": [
    "supervised_time = []\n",
    "images.sort()\n",
    "for i in range(0,len(images)):\n",
    "    inputImageFile = 'val/'+ images[i]\n",
    "    imInput = skimage.io.imread(inputImageFile)[:, :, :3]\n",
    "    t1= time.time()\n",
    "    imDeconvolved =  supervised_deconvolve(imInput)\n",
    "    supervised_time.append(time.time()-t1)\n",
    "    im_c = cv2.hconcat([imDeconvolved.Stains[:, :, 0], imDeconvolved.Stains[:, :, 1]])\n",
    "    cv2.imwrite(\"temp.jpg\",im_c)\n",
    "    im_dec = cv2.imread(\"temp.jpg\")\n",
    "    im_c = cv2.hconcat([imInput, im_dec])\n",
    "    if i==0:\n",
    "        final = copy.deepcopy(im_c)\n",
    "    else:\n",
    "        final = cv2.vconcat([final, im_c])\n",
    "#cv2.imwrite(\"supervised.jpg\", final)\n"
   ]
  },
  {
   "cell_type": "code",
   "execution_count": 23,
   "metadata": {},
   "outputs": [
    {
     "data": {
      "text/plain": [
       "0.03678997357686361"
      ]
     },
     "execution_count": 23,
     "metadata": {},
     "output_type": "execute_result"
    }
   ],
   "source": [
    "sum(supervised_time)/len(images)"
   ]
  },
  {
   "cell_type": "markdown",
   "metadata": {},
   "source": [
    "***Approach-2***"
   ]
  },
  {
   "cell_type": "code",
   "execution_count": null,
   "metadata": {},
   "outputs": [],
   "source": [
    "\n",
    "inputImageFile = 'val/'+ images[0]\n",
    "imInput = skimage.io.imread(inputImageFile)[:, :, :3]"
   ]
  },
  {
   "cell_type": "code",
   "execution_count": null,
   "metadata": {},
   "outputs": [],
   "source": [
    "imInput.shape"
   ]
  },
  {
   "cell_type": "code",
   "execution_count": null,
   "metadata": {},
   "outputs": [],
   "source": [
    "plt.imshow(imInput)\n",
    "_ = plt.title('Input Image', fontsize=16)\n"
   ]
  },
  {
   "cell_type": "markdown",
   "metadata": {},
   "source": [
    "**Approach 2.2** - UnSupervised color deconvolution : Sparse non-negative matrix factorization"
   ]
  },
  {
   "cell_type": "code",
   "execution_count": null,
   "metadata": {},
   "outputs": [],
   "source": [
    "# create initial stain matrix\n",
    "W_init = W[:, :2]\n",
    "\n",
    "# Compute stain matrix adaptively\n",
    "sparsity_factor = 0.5\n",
    "\n",
    "I_0 = 255\n",
    "im_sda = htk.preprocessing.color_conversion.rgb_to_sda(imInput, I_0)\n",
    "W_est = htk.preprocessing.color_deconvolution.separate_stains_xu_snmf(\n",
    "    im_sda, W_init, sparsity_factor,\n",
    ")\n",
    "\n",
    "# perform sparse color deconvolution\n",
    "imDeconvolved = htk.preprocessing.color_deconvolution.color_deconvolution(\n",
    "    imInput,\n",
    "    htk.preprocessing.color_deconvolution.complement_stain_matrix(W_est),\n",
    "    I_0,\n",
    ")\n",
    "\n",
    "print('Estimated stain colors (in rows):', W_est.T, sep='\\n')\n",
    "\n",
    "# Display results\n",
    "for i in 0, 1:\n",
    "    plt.figure()\n",
    "    plt.imshow(imDeconvolved.Stains[:, :, i])\n",
    "    _ = plt.title(stains[i], fontsize=titlesize)"
   ]
  },
  {
   "cell_type": "code",
   "execution_count": 24,
   "metadata": {},
   "outputs": [],
   "source": [
    "def unsupervised_matrix(imInput):\n",
    "    # create initial stain matrix\n",
    "    W_init = W[:, :2]\n",
    "\n",
    "    # Compute stain matrix adaptively\n",
    "    sparsity_factor = 0.5\n",
    "\n",
    "    I_0 = 255\n",
    "    im_sda = htk.preprocessing.color_conversion.rgb_to_sda(imInput, I_0)\n",
    "    W_est = htk.preprocessing.color_deconvolution.separate_stains_xu_snmf(\n",
    "        im_sda, W_init, sparsity_factor,\n",
    "    )\n",
    "\n",
    "    # perform sparse color deconvolution\n",
    "    imDeconvolved = htk.preprocessing.color_deconvolution.color_deconvolution(\n",
    "        imInput,\n",
    "        htk.preprocessing.color_deconvolution.complement_stain_matrix(W_est),\n",
    "        I_0,\n",
    "    )\n",
    "\n",
    "    print('Estimated stain colors (in rows):', W_est.T, sep='\\n')\n",
    "    return imDeconvolved"
   ]
  },
  {
   "cell_type": "code",
   "execution_count": 25,
   "metadata": {},
   "outputs": [
    {
     "name": "stdout",
     "output_type": "stream",
     "text": [
      "['0_0.png', '0_1.png', '0_2.png', '0_3.png', '1_0.png', '1_1.png', '1_2.png', '1_3.png', '2_0.png', '2_1.png', '2_2.png', '2_3.png', '3_0.png', '3_1.png', '3_2.png', '3_3.png', '4_0.png', '4_1.png', '4_2.png', '4_3.png', '5_0.png', '5_1.png', '5_2.png', '5_3.png']\n"
     ]
    },
    {
     "name": "stderr",
     "output_type": "stream",
     "text": [
      "  4%|▍         | 1/24 [00:19<07:37, 19.90s/it]"
     ]
    },
    {
     "name": "stdout",
     "output_type": "stream",
     "text": [
      "Estimated stain colors (in rows):\n",
      "[[5.48681410e-01 7.42603468e-01 3.84042706e-01]\n",
      " [4.23350189e-17 8.25525742e-01 5.64364465e-01]]\n"
     ]
    },
    {
     "name": "stderr",
     "output_type": "stream",
     "text": [
      "  8%|▊         | 2/24 [00:41<07:34, 20.65s/it]"
     ]
    },
    {
     "name": "stdout",
     "output_type": "stream",
     "text": [
      "Estimated stain colors (in rows):\n",
      "[[5.40567008e-01 7.46728318e-01 3.87535972e-01]\n",
      " [4.41843977e-17 8.24381640e-01 5.66034373e-01]]\n"
     ]
    },
    {
     "name": "stderr",
     "output_type": "stream",
     "text": [
      " 12%|█▎        | 3/24 [01:06<08:04, 23.05s/it]"
     ]
    },
    {
     "name": "stdout",
     "output_type": "stream",
     "text": [
      "Estimated stain colors (in rows):\n",
      "[[5.43321316e-01 7.45638787e-01 3.85778106e-01]\n",
      " [4.25522241e-17 8.31006586e-01 5.56262577e-01]]\n"
     ]
    },
    {
     "name": "stderr",
     "output_type": "stream",
     "text": [
      " 17%|█▋        | 4/24 [01:33<08:11, 24.59s/it]"
     ]
    },
    {
     "name": "stdout",
     "output_type": "stream",
     "text": [
      "Estimated stain colors (in rows):\n",
      "[[5.27076947e-01 7.52700339e-01 3.94502333e-01]\n",
      " [4.82931248e-17 8.29129380e-01 5.59056770e-01]]\n"
     ]
    },
    {
     "name": "stderr",
     "output_type": "stream",
     "text": [
      "/home/singhv04/.local/lib/python3.8/site-packages/histomicstk/preprocessing/color_conversion/rgb_to_sda.py:48: RuntimeWarning: divide by zero encountered in log\n",
      "  im_sda = -np.log(im_rgb/(1.*I_0)) * 255/np.log(I_0)\n",
      "/home/singhv04/.local/lib/python3.8/site-packages/histomicstk/preprocessing/color_conversion/rgb_to_sda.py:48: RuntimeWarning: divide by zero encountered in log\n",
      "  im_sda = -np.log(im_rgb/(1.*I_0)) * 255/np.log(I_0)\n",
      " 21%|██        | 5/24 [01:57<07:38, 24.14s/it]"
     ]
    },
    {
     "name": "stdout",
     "output_type": "stream",
     "text": [
      "Estimated stain colors (in rows):\n",
      "[[5.72424751e-01 7.31258848e-01 3.70931801e-01]\n",
      " [4.29919634e-17 8.17086180e-01 5.76515546e-01]]\n"
     ]
    },
    {
     "name": "stderr",
     "output_type": "stream",
     "text": [
      " 25%|██▌       | 6/24 [02:15<06:41, 22.28s/it]"
     ]
    },
    {
     "name": "stdout",
     "output_type": "stream",
     "text": [
      "Estimated stain colors (in rows):\n",
      "[[0.59415214 0.72031884 0.35794413]\n",
      " [0.04482323 0.82441454 0.56420878]]\n"
     ]
    },
    {
     "name": "stderr",
     "output_type": "stream",
     "text": [
      " 29%|██▉       | 7/24 [02:34<05:59, 21.16s/it]"
     ]
    },
    {
     "name": "stdout",
     "output_type": "stream",
     "text": [
      "Estimated stain colors (in rows):\n",
      "[[5.44369111e-01 7.49225430e-01 3.77257905e-01]\n",
      " [4.89481537e-17 8.05940875e-01 5.91996036e-01]]\n"
     ]
    },
    {
     "name": "stderr",
     "output_type": "stream",
     "text": [
      " 33%|███▎      | 8/24 [02:54<05:30, 20.68s/it]"
     ]
    },
    {
     "name": "stdout",
     "output_type": "stream",
     "text": [
      "Estimated stain colors (in rows):\n",
      "[[0.58193098 0.73404649 0.35004584]\n",
      " [0.10684832 0.81707208 0.56654802]]\n"
     ]
    },
    {
     "name": "stderr",
     "output_type": "stream",
     "text": [
      "/home/singhv04/.local/lib/python3.8/site-packages/histomicstk/preprocessing/color_conversion/rgb_to_sda.py:48: RuntimeWarning: divide by zero encountered in log\n",
      "  im_sda = -np.log(im_rgb/(1.*I_0)) * 255/np.log(I_0)\n",
      "/home/singhv04/.local/lib/python3.8/site-packages/histomicstk/preprocessing/color_conversion/rgb_to_sda.py:48: RuntimeWarning: divide by zero encountered in log\n",
      "  im_sda = -np.log(im_rgb/(1.*I_0)) * 255/np.log(I_0)\n",
      " 38%|███▊      | 9/24 [03:12<04:58, 19.91s/it]"
     ]
    },
    {
     "name": "stdout",
     "output_type": "stream",
     "text": [
      "Estimated stain colors (in rows):\n",
      "[[0.49118502 0.77858942 0.39055831]\n",
      " [0.07209956 0.814893   0.57510961]]\n"
     ]
    },
    {
     "name": "stderr",
     "output_type": "stream",
     "text": [
      "/home/singhv04/.local/lib/python3.8/site-packages/histomicstk/preprocessing/color_conversion/rgb_to_sda.py:48: RuntimeWarning: divide by zero encountered in log\n",
      "  im_sda = -np.log(im_rgb/(1.*I_0)) * 255/np.log(I_0)\n",
      " 42%|████▏     | 10/24 [03:31<04:35, 19.71s/it]"
     ]
    },
    {
     "name": "stdout",
     "output_type": "stream",
     "text": [
      "Estimated stain colors (in rows):\n",
      "[[0.50249849 0.77427707 0.38469505]\n",
      " [0.07555966 0.82115747 0.56567761]]\n"
     ]
    },
    {
     "name": "stderr",
     "output_type": "stream",
     "text": [
      "/home/singhv04/.local/lib/python3.8/site-packages/histomicstk/preprocessing/color_conversion/rgb_to_sda.py:48: RuntimeWarning: divide by zero encountered in log\n",
      "  im_sda = -np.log(im_rgb/(1.*I_0)) * 255/np.log(I_0)\n",
      " 46%|████▌     | 11/24 [03:54<04:26, 20.51s/it]"
     ]
    },
    {
     "name": "stdout",
     "output_type": "stream",
     "text": [
      "Estimated stain colors (in rows):\n",
      "[[0.50148997 0.77457858 0.38540347]\n",
      " [0.08654986 0.81737433 0.56956855]]\n"
     ]
    },
    {
     "name": "stderr",
     "output_type": "stream",
     "text": [
      "/home/singhv04/.local/lib/python3.8/site-packages/histomicstk/preprocessing/color_conversion/rgb_to_sda.py:48: RuntimeWarning: divide by zero encountered in log\n",
      "  im_sda = -np.log(im_rgb/(1.*I_0)) * 255/np.log(I_0)\n",
      " 50%|█████     | 12/24 [04:15<04:08, 20.69s/it]"
     ]
    },
    {
     "name": "stdout",
     "output_type": "stream",
     "text": [
      "Estimated stain colors (in rows):\n",
      "[[0.50190476 0.77415214 0.38572021]\n",
      " [0.07997966 0.82097289 0.56533775]]\n"
     ]
    },
    {
     "name": "stderr",
     "output_type": "stream",
     "text": [
      "/home/singhv04/.local/lib/python3.8/site-packages/histomicstk/preprocessing/color_conversion/rgb_to_sda.py:48: RuntimeWarning: divide by zero encountered in log\n",
      "  im_sda = -np.log(im_rgb/(1.*I_0)) * 255/np.log(I_0)\n",
      " 54%|█████▍    | 13/24 [04:35<03:46, 20.58s/it]"
     ]
    },
    {
     "name": "stdout",
     "output_type": "stream",
     "text": [
      "Estimated stain colors (in rows):\n",
      "[[5.79722596e-01 7.20659888e-01 3.80224982e-01]\n",
      " [4.31140160e-17 8.44812910e-01 5.35061816e-01]]\n"
     ]
    },
    {
     "name": "stderr",
     "output_type": "stream",
     "text": [
      "/home/singhv04/.local/lib/python3.8/site-packages/histomicstk/preprocessing/color_conversion/rgb_to_sda.py:48: RuntimeWarning: divide by zero encountered in log\n",
      "  im_sda = -np.log(im_rgb/(1.*I_0)) * 255/np.log(I_0)\n",
      " 58%|█████▊    | 14/24 [04:57<03:29, 20.98s/it]"
     ]
    },
    {
     "name": "stdout",
     "output_type": "stream",
     "text": [
      "Estimated stain colors (in rows):\n",
      "[[5.74391633e-01 7.19100110e-01 3.91112878e-01]\n",
      " [5.04385354e-17 8.42745443e-01 5.38312287e-01]]\n"
     ]
    },
    {
     "name": "stderr",
     "output_type": "stream",
     "text": [
      "/home/singhv04/.local/lib/python3.8/site-packages/histomicstk/preprocessing/color_conversion/rgb_to_sda.py:48: RuntimeWarning: divide by zero encountered in log\n",
      "  im_sda = -np.log(im_rgb/(1.*I_0)) * 255/np.log(I_0)\n",
      " 62%|██████▎   | 15/24 [05:18<03:09, 21.00s/it]"
     ]
    },
    {
     "name": "stdout",
     "output_type": "stream",
     "text": [
      "Estimated stain colors (in rows):\n",
      "[[5.84278897e-01 7.15876328e-01 3.82281642e-01]\n",
      " [4.62025319e-17 8.48636289e-01 5.28976794e-01]]\n"
     ]
    },
    {
     "name": "stderr",
     "output_type": "stream",
     "text": [
      "/home/singhv04/.local/lib/python3.8/site-packages/histomicstk/preprocessing/color_conversion/rgb_to_sda.py:48: RuntimeWarning: divide by zero encountered in log\n",
      "  im_sda = -np.log(im_rgb/(1.*I_0)) * 255/np.log(I_0)\n",
      " 67%|██████▋   | 16/24 [05:40<02:50, 21.28s/it]"
     ]
    },
    {
     "name": "stdout",
     "output_type": "stream",
     "text": [
      "Estimated stain colors (in rows):\n",
      "[[5.74991867e-01 7.18797861e-01 3.90786372e-01]\n",
      " [4.95526707e-17 8.44531511e-01 5.35505861e-01]]\n"
     ]
    },
    {
     "name": "stderr",
     "output_type": "stream",
     "text": [
      "/home/singhv04/.local/lib/python3.8/site-packages/histomicstk/preprocessing/color_conversion/rgb_to_sda.py:48: RuntimeWarning: divide by zero encountered in log\n",
      "  im_sda = -np.log(im_rgb/(1.*I_0)) * 255/np.log(I_0)\n",
      " 71%|███████   | 17/24 [05:57<02:20, 20.11s/it]"
     ]
    },
    {
     "name": "stdout",
     "output_type": "stream",
     "text": [
      "Estimated stain colors (in rows):\n",
      "[[5.72065220e-01 7.24758315e-01 3.84014021e-01]\n",
      " [4.14526090e-17 8.65989878e-01 5.00061527e-01]]\n"
     ]
    },
    {
     "name": "stderr",
     "output_type": "stream",
     "text": [
      "/home/singhv04/.local/lib/python3.8/site-packages/histomicstk/preprocessing/color_conversion/rgb_to_sda.py:48: RuntimeWarning: divide by zero encountered in log\n",
      "  im_sda = -np.log(im_rgb/(1.*I_0)) * 255/np.log(I_0)\n",
      " 75%|███████▌  | 18/24 [06:15<01:55, 19.27s/it]"
     ]
    },
    {
     "name": "stdout",
     "output_type": "stream",
     "text": [
      "Estimated stain colors (in rows):\n",
      "[[5.82186364e-01 7.16783207e-01 3.83771900e-01]\n",
      " [4.15504095e-17 8.81793999e-01 4.71634757e-01]]\n"
     ]
    },
    {
     "name": "stderr",
     "output_type": "stream",
     "text": [
      "/home/singhv04/.local/lib/python3.8/site-packages/histomicstk/preprocessing/color_conversion/rgb_to_sda.py:48: RuntimeWarning: divide by zero encountered in log\n",
      "  im_sda = -np.log(im_rgb/(1.*I_0)) * 255/np.log(I_0)\n",
      " 79%|███████▉  | 19/24 [06:31<01:31, 18.40s/it]"
     ]
    },
    {
     "name": "stdout",
     "output_type": "stream",
     "text": [
      "Estimated stain colors (in rows):\n",
      "[[5.90613940e-01 7.13244191e-01 3.77435953e-01]\n",
      " [4.06936965e-17 8.50816672e-01 5.25462644e-01]]\n"
     ]
    },
    {
     "name": "stderr",
     "output_type": "stream",
     "text": [
      "/home/singhv04/.local/lib/python3.8/site-packages/histomicstk/preprocessing/color_conversion/rgb_to_sda.py:48: RuntimeWarning: divide by zero encountered in log\n",
      "  im_sda = -np.log(im_rgb/(1.*I_0)) * 255/np.log(I_0)\n",
      " 83%|████████▎ | 20/24 [06:47<01:10, 17.68s/it]"
     ]
    },
    {
     "name": "stdout",
     "output_type": "stream",
     "text": [
      "Estimated stain colors (in rows):\n",
      "[[5.81783275e-01 7.20120133e-01 3.78094188e-01]\n",
      " [4.19898442e-17 8.57712081e-01 5.14130321e-01]]\n"
     ]
    },
    {
     "name": "stderr",
     "output_type": "stream",
     "text": [
      " 88%|████████▊ | 21/24 [07:07<00:55, 18.46s/it]"
     ]
    },
    {
     "name": "stdout",
     "output_type": "stream",
     "text": [
      "Estimated stain colors (in rows):\n",
      "[[5.85536212e-01 7.21323337e-01 3.69918893e-01]\n",
      " [5.01987351e-17 8.20482996e-01 5.71670931e-01]]\n"
     ]
    },
    {
     "name": "stderr",
     "output_type": "stream",
     "text": [
      " 92%|█████████▏| 22/24 [07:25<00:36, 18.18s/it]"
     ]
    },
    {
     "name": "stdout",
     "output_type": "stream",
     "text": [
      "Estimated stain colors (in rows):\n",
      "[[0.59311142 0.71818784 0.36390256]\n",
      " [0.03991185 0.8089975  0.58645553]]\n"
     ]
    },
    {
     "name": "stderr",
     "output_type": "stream",
     "text": [
      " 96%|█████████▌| 23/24 [07:43<00:18, 18.21s/it]"
     ]
    },
    {
     "name": "stdout",
     "output_type": "stream",
     "text": [
      "Estimated stain colors (in rows):\n",
      "[[0.6000502  0.7156125  0.3575451 ]\n",
      " [0.14573878 0.7943007  0.58978522]]\n"
     ]
    },
    {
     "name": "stderr",
     "output_type": "stream",
     "text": [
      "100%|██████████| 24/24 [08:05<00:00, 20.22s/it]"
     ]
    },
    {
     "name": "stdout",
     "output_type": "stream",
     "text": [
      "Estimated stain colors (in rows):\n",
      "[[0.59056089 0.71878426 0.36686105]\n",
      " [0.01612915 0.80376148 0.59473299]]\n"
     ]
    },
    {
     "name": "stderr",
     "output_type": "stream",
     "text": [
      "\n"
     ]
    }
   ],
   "source": [
    "unsupervised_mtime=[]\n",
    "images.sort()\n",
    "print(images)\n",
    "for i in tqdm(range(0,len(images))):\n",
    "# for i in range(0,2):\n",
    "    inputImageFile = 'val/'+ images[i]\n",
    "    imInput = skimage.io.imread(inputImageFile)[:, :, :3]\n",
    "    t1 = time.time()\n",
    "    imDeconvolved =  unsupervised_matrix(imInput)\n",
    "    unsupervised_mtime.append(time.time()-t1)\n",
    "    im_c = cv2.hconcat([imDeconvolved.Stains[:, :, 0], imDeconvolved.Stains[:, :, 1]])\n",
    "    cv2.imwrite(\"temp.jpg\",im_c)\n",
    "    im_dec = cv2.imread(\"temp.jpg\")\n",
    "    im_c = cv2.hconcat([imInput, im_dec])\n",
    "    if i==0:\n",
    "        final = copy.deepcopy(im_c)\n",
    "    else:\n",
    "        final = cv2.vconcat([final, im_c])\n",
    "# cv2.imwrite(\"unsupervised_matrix.jpg\", final)\n"
   ]
  },
  {
   "cell_type": "code",
   "execution_count": 26,
   "metadata": {},
   "outputs": [
    {
     "data": {
      "text/plain": [
       "20.184581408898037"
      ]
     },
     "execution_count": 26,
     "metadata": {},
     "output_type": "execute_result"
    }
   ],
   "source": [
    "sum(unsupervised_mtime)/len(images)"
   ]
  },
  {
   "cell_type": "code",
   "execution_count": null,
   "metadata": {},
   "outputs": [],
   "source": []
  },
  {
   "cell_type": "markdown",
   "metadata": {},
   "source": [
    "**Approach 2.3** - UnSupervised color deconvolution : The PCA-based method of Macenko et al."
   ]
  },
  {
   "cell_type": "code",
   "execution_count": null,
   "metadata": {},
   "outputs": [],
   "source": [
    "w_est = htk.preprocessing.color_deconvolution.rgb_separate_stains_macenko_pca(imInput, I_0)\n",
    "\n",
    "# Perform color deconvolution\n",
    "deconv_result = htk.preprocessing.color_deconvolution.color_deconvolution(imInput, w_est, I_0)\n",
    "\n",
    "print('Estimated stain colors (rows):', w_est.T[:2], sep='\\n')\n",
    "\n",
    "# Display results\n",
    "for i in 0, 1:\n",
    "    plt.figure()\n",
    "    # Unlike SNMF, we're not guaranteed the order of the different stains.\n",
    "    # find_stain_index guesses which one we want\n",
    "    channel = htk.preprocessing.color_deconvolution.find_stain_index(\n",
    "        stain_color_map[stains[i]], w_est)\n",
    "    plt.imshow(deconv_result.Stains[:, :, channel])\n",
    "    _ = plt.title(stains[i], fontsize=titlesize)"
   ]
  },
  {
   "cell_type": "code",
   "execution_count": 27,
   "metadata": {},
   "outputs": [],
   "source": [
    "def unsupervised_pca(imInput):\n",
    "    I_0 = 255\n",
    "    w_est = htk.preprocessing.color_deconvolution.rgb_separate_stains_macenko_pca(imInput, I_0)\n",
    "    # Perform color deconvolution\n",
    "    deconv_result = htk.preprocessing.color_deconvolution.color_deconvolution(imInput, w_est, I_0)\n",
    "    print('Estimated stain colors (rows):', w_est.T[:2], sep='\\n')\n",
    "    result=[]\n",
    "    for i in 0, 1:\n",
    "        channel = htk.preprocessing.color_deconvolution.find_stain_index(\n",
    "        stain_color_map[stains[i]], w_est)\n",
    "        result.append(deconv_result.Stains[:, :, channel])\n",
    "    return result    "
   ]
  },
  {
   "cell_type": "code",
   "execution_count": 28,
   "metadata": {},
   "outputs": [
    {
     "name": "stdout",
     "output_type": "stream",
     "text": [
      "['0_0.png', '0_1.png', '0_2.png', '0_3.png', '1_0.png', '1_1.png', '1_2.png', '1_3.png', '2_0.png', '2_1.png', '2_2.png', '2_3.png', '3_0.png', '3_1.png', '3_2.png', '3_3.png', '4_0.png', '4_1.png', '4_2.png', '4_3.png', '5_0.png', '5_1.png', '5_2.png', '5_3.png']\n"
     ]
    },
    {
     "name": "stderr",
     "output_type": "stream",
     "text": [
      "  4%|▍         | 1/24 [00:00<00:02,  8.33it/s]"
     ]
    },
    {
     "name": "stdout",
     "output_type": "stream",
     "text": [
      "Estimated stain colors (rows):\n",
      "[[0.34600919 0.8127125  0.46880277]\n",
      " [0.59710088 0.71688105 0.35993346]]\n"
     ]
    },
    {
     "name": "stderr",
     "output_type": "stream",
     "text": [
      "  8%|▊         | 2/24 [00:00<00:02,  7.49it/s]"
     ]
    },
    {
     "name": "stdout",
     "output_type": "stream",
     "text": [
      "Estimated stain colors (rows):\n",
      "[[0.33220341 0.81552628 0.47387529]\n",
      " [0.59379297 0.71907784 0.36102212]]\n",
      "Estimated stain colors (rows):\n",
      "[[0.36573217 0.81035407 0.45778407]\n",
      " [0.59351913 0.71876957 0.36208472]]\n"
     ]
    },
    {
     "name": "stderr",
     "output_type": "stream",
     "text": [
      " 17%|█▋        | 4/24 [00:00<00:03,  6.36it/s]"
     ]
    },
    {
     "name": "stdout",
     "output_type": "stream",
     "text": [
      "Estimated stain colors (rows):\n",
      "[[0.32023338 0.82125051 0.47222684]\n",
      " [0.59549244 0.71654645 0.36324914]]\n"
     ]
    },
    {
     "name": "stderr",
     "output_type": "stream",
     "text": [
      "/home/singhv04/.local/lib/python3.8/site-packages/histomicstk/preprocessing/color_conversion/rgb_to_sda.py:48: RuntimeWarning: divide by zero encountered in log\n",
      "  im_sda = -np.log(im_rgb/(1.*I_0)) * 255/np.log(I_0)\n",
      " 21%|██        | 5/24 [00:00<00:02,  6.83it/s]"
     ]
    },
    {
     "name": "stdout",
     "output_type": "stream",
     "text": [
      "Estimated stain colors (rows):\n",
      "[[0.13990484 0.82972669 0.54035197]\n",
      " [0.62409175 0.7029664  0.34109783]]\n"
     ]
    },
    {
     "name": "stderr",
     "output_type": "stream",
     "text": [
      " 25%|██▌       | 6/24 [00:00<00:02,  7.21it/s]"
     ]
    },
    {
     "name": "stdout",
     "output_type": "stream",
     "text": [
      "Estimated stain colors (rows):\n",
      "[[0.1290918  0.82957059 0.5432752 ]\n",
      " [0.63147987 0.69898336 0.33564182]]\n"
     ]
    },
    {
     "name": "stderr",
     "output_type": "stream",
     "text": [
      " 29%|██▉       | 7/24 [00:01<00:02,  7.05it/s]"
     ]
    },
    {
     "name": "stdout",
     "output_type": "stream",
     "text": [
      "Estimated stain colors (rows):\n",
      "[[0.12679842 0.82576307 0.5495794 ]\n",
      " [0.60658787 0.71841667 0.34048294]]\n"
     ]
    },
    {
     "name": "stderr",
     "output_type": "stream",
     "text": [
      " 33%|███▎      | 8/24 [00:01<00:02,  7.00it/s]"
     ]
    },
    {
     "name": "stdout",
     "output_type": "stream",
     "text": [
      "Estimated stain colors (rows):\n",
      "[[0.10516088 0.81835448 0.56501074]\n",
      " [0.60724084 0.72107749 0.33362526]]\n"
     ]
    },
    {
     "name": "stderr",
     "output_type": "stream",
     "text": [
      " 38%|███▊      | 9/24 [00:01<00:02,  6.63it/s]"
     ]
    },
    {
     "name": "stdout",
     "output_type": "stream",
     "text": [
      "Estimated stain colors (rows):\n",
      "[[0.11960622 0.82118645 0.55798492]\n",
      " [0.52818788 0.7651521  0.36818451]]\n"
     ]
    },
    {
     "name": "stderr",
     "output_type": "stream",
     "text": [
      " 42%|████▏     | 10/24 [00:01<00:02,  6.80it/s]"
     ]
    },
    {
     "name": "stdout",
     "output_type": "stream",
     "text": [
      "Estimated stain colors (rows):\n",
      "[[0.107786   0.82617022 0.55301441]\n",
      " [0.54069385 0.75908667 0.36254321]]\n"
     ]
    },
    {
     "name": "stderr",
     "output_type": "stream",
     "text": [
      " 46%|████▌     | 11/24 [00:01<00:01,  6.83it/s]"
     ]
    },
    {
     "name": "stdout",
     "output_type": "stream",
     "text": [
      "Estimated stain colors (rows):\n",
      "[[0.11671611 0.82193658 0.55749225]\n",
      " [0.53219294 0.76286985 0.36715156]]\n"
     ]
    },
    {
     "name": "stderr",
     "output_type": "stream",
     "text": [
      " 50%|█████     | 12/24 [00:01<00:01,  6.92it/s]"
     ]
    },
    {
     "name": "stdout",
     "output_type": "stream",
     "text": [
      "Estimated stain colors (rows):\n",
      "[[0.11127571 0.82548605 0.55334482]\n",
      " [0.53703465 0.76033238 0.36536073]]\n"
     ]
    },
    {
     "name": "stderr",
     "output_type": "stream",
     "text": [
      " 54%|█████▍    | 13/24 [00:01<00:01,  7.06it/s]"
     ]
    },
    {
     "name": "stdout",
     "output_type": "stream",
     "text": [
      "Estimated stain colors (rows):\n",
      "[[0.21812417 0.83879165 0.4988491 ]\n",
      " [0.66770282 0.66460457 0.33537101]]\n"
     ]
    },
    {
     "name": "stderr",
     "output_type": "stream",
     "text": [
      " 58%|█████▊    | 14/24 [00:02<00:01,  7.15it/s]"
     ]
    },
    {
     "name": "stdout",
     "output_type": "stream",
     "text": [
      "Estimated stain colors (rows):\n",
      "[[0.3064886  0.8194989  0.48423784]\n",
      " [0.6877917  0.64533848 0.33238655]]\n",
      "Estimated stain colors (rows):\n",
      "[[0.2561575  0.8344536  0.48792471]\n",
      " [0.70647213 0.63163323 0.31927509]]\n"
     ]
    },
    {
     "name": "stderr",
     "output_type": "stream",
     "text": [
      " 67%|██████▋   | 16/24 [00:02<00:01,  6.51it/s]"
     ]
    },
    {
     "name": "stdout",
     "output_type": "stream",
     "text": [
      "Estimated stain colors (rows):\n",
      "[[0.27884571 0.82513985 0.49131384]\n",
      " [0.68594064 0.64704056 0.33290233]]\n"
     ]
    },
    {
     "name": "stderr",
     "output_type": "stream",
     "text": [
      " 71%|███████   | 17/24 [00:02<00:01,  6.80it/s]"
     ]
    },
    {
     "name": "stdout",
     "output_type": "stream",
     "text": [
      "Estimated stain colors (rows):\n",
      "[[0.13801794 0.8629339  0.486103  ]\n",
      " [0.63680134 0.68301207 0.35774092]]\n"
     ]
    },
    {
     "name": "stderr",
     "output_type": "stream",
     "text": [
      " 75%|███████▌  | 18/24 [00:02<00:00,  6.71it/s]"
     ]
    },
    {
     "name": "stdout",
     "output_type": "stream",
     "text": [
      "Estimated stain colors (rows):\n",
      "[[0.16343386 0.87065631 0.46394715]\n",
      " [0.66143717 0.66077438 0.35479301]]\n"
     ]
    },
    {
     "name": "stderr",
     "output_type": "stream",
     "text": [
      " 79%|███████▉  | 19/24 [00:02<00:00,  6.68it/s]"
     ]
    },
    {
     "name": "stdout",
     "output_type": "stream",
     "text": [
      "Estimated stain colors (rows):\n",
      "[[0.08950287 0.85414039 0.51228257]\n",
      " [0.66143196 0.66667639 0.34358458]]\n"
     ]
    },
    {
     "name": "stderr",
     "output_type": "stream",
     "text": [
      " 83%|████████▎ | 20/24 [00:02<00:00,  7.08it/s]"
     ]
    },
    {
     "name": "stdout",
     "output_type": "stream",
     "text": [
      "Estimated stain colors (rows):\n",
      "[[0.13684356 0.85880446 0.49368891]\n",
      " [0.66151367 0.66694262 0.34290991]]\n"
     ]
    },
    {
     "name": "stderr",
     "output_type": "stream",
     "text": [
      " 88%|████████▊ | 21/24 [00:03<00:00,  6.94it/s]"
     ]
    },
    {
     "name": "stdout",
     "output_type": "stream",
     "text": [
      "Estimated stain colors (rows):\n",
      "[[0.37804515 0.8018836  0.46267111]\n",
      " [0.63668177 0.69103608 0.34220675]]\n"
     ]
    },
    {
     "name": "stderr",
     "output_type": "stream",
     "text": [
      " 92%|█████████▏| 22/24 [00:03<00:00,  7.20it/s]"
     ]
    },
    {
     "name": "stdout",
     "output_type": "stream",
     "text": [
      "Estimated stain colors (rows):\n",
      "[[0.31337963 0.80533062 0.5032254 ]\n",
      " [0.62988651 0.69820791 0.34021859]]\n"
     ]
    },
    {
     "name": "stderr",
     "output_type": "stream",
     "text": [
      " 96%|█████████▌| 23/24 [00:03<00:00,  7.31it/s]"
     ]
    },
    {
     "name": "stdout",
     "output_type": "stream",
     "text": [
      "Estimated stain colors (rows):\n",
      "[[0.2319744  0.79746219 0.55699366]\n",
      " [0.63169887 0.69960105 0.33393848]]\n"
     ]
    },
    {
     "name": "stderr",
     "output_type": "stream",
     "text": [
      "100%|██████████| 24/24 [00:03<00:00,  6.97it/s]"
     ]
    },
    {
     "name": "stdout",
     "output_type": "stream",
     "text": [
      "Estimated stain colors (rows):\n",
      "[[0.31086722 0.80416353 0.50663852]\n",
      " [0.62758485 0.69896171 0.34291367]]\n"
     ]
    },
    {
     "name": "stderr",
     "output_type": "stream",
     "text": [
      "\n"
     ]
    }
   ],
   "source": [
    "unsupervised_pcatime=[]\n",
    "images.sort()\n",
    "print(images)\n",
    "for i in tqdm(range(0,len(images))):\n",
    "# for i in range(0,2):\n",
    "    inputImageFile = 'val/'+ images[i]\n",
    "    imInput = skimage.io.imread(inputImageFile)[:, :, :3]\n",
    "    t1 = time.time()\n",
    "    imDeconvolved =  unsupervised_pca(imInput)\n",
    "    unsupervised_pcatime.append(time.time()-t1)\n",
    "    im_c = cv2.hconcat([imDeconvolved[0], imDeconvolved[1]])\n",
    "    cv2.imwrite(\"temp.jpg\",im_c)\n",
    "    im_dec = cv2.imread(\"temp.jpg\")\n",
    "    im_c = cv2.hconcat([imInput, im_dec])\n",
    "    if i==0:\n",
    "        final = copy.deepcopy(im_c)\n",
    "    else:\n",
    "        final = cv2.vconcat([final, im_c])\n",
    "# cv2.imwrite(\"unsupervised_pca.jpg\", final)"
   ]
  },
  {
   "cell_type": "code",
   "execution_count": 29,
   "metadata": {},
   "outputs": [
    {
     "data": {
      "text/plain": [
       "0.11124852299690247"
      ]
     },
     "execution_count": 29,
     "metadata": {},
     "output_type": "execute_result"
    }
   ],
   "source": [
    "sum(unsupervised_pcatime)/len(images)"
   ]
  }
 ],
 "metadata": {
  "interpreter": {
   "hash": "916dbcbb3f70747c44a77c7bcd40155683ae19c65e1c03b4aa3499c5328201f1"
  },
  "kernelspec": {
   "display_name": "Python 3.8.10 64-bit",
   "language": "python",
   "name": "python3"
  },
  "language_info": {
   "codemirror_mode": {
    "name": "ipython",
    "version": 3
   },
   "file_extension": ".py",
   "mimetype": "text/x-python",
   "name": "python",
   "nbconvert_exporter": "python",
   "pygments_lexer": "ipython3",
   "version": "3.8.10"
  },
  "orig_nbformat": 4
 },
 "nbformat": 4,
 "nbformat_minor": 2
}
