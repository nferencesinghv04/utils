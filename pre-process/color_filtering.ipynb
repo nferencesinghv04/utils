{
 "cells": [
  {
   "cell_type": "code",
   "execution_count": 38,
   "metadata": {},
   "outputs": [],
   "source": [
    "import os\n",
    "import cv2\n",
    "import copy\n",
    "import numpy as np"
   ]
  },
  {
   "cell_type": "code",
   "execution_count": 29,
   "metadata": {},
   "outputs": [],
   "source": [
    "base_img_path = 'val/'\n",
    "images = os.listdir(base_img_path)"
   ]
  },
  {
   "cell_type": "code",
   "execution_count": 35,
   "metadata": {},
   "outputs": [],
   "source": [
    "def get_components( frame_threshed):\n",
    "    #eosin part\n",
    "    dummy = np.zeros(img.shape, img.dtype)\n",
    "    dummy[:,:,0] = frame_threshed\n",
    "    dummy[:,:,1] = frame_threshed\n",
    "    dummy[:,:,2] = frame_threshed\n",
    "    e_component = cv2.addWeighted(dummy, 1, img, 1, 0)\n",
    "\n",
    "    # h component\n",
    "    frame_threshed = cv2.bitwise_not(frame_threshed)\n",
    "    dummy = np.zeros(img.shape, img.dtype)\n",
    "    dummy[:,:,0] = frame_threshed\n",
    "    dummy[:,:,1] = frame_threshed\n",
    "    dummy[:,:,2] = frame_threshed\n",
    "    h_component = cv2.addWeighted(dummy, 1, img, 1, 0)\n",
    "\n",
    "    return [h_component,e_component]"
   ]
  },
  {
   "cell_type": "code",
   "execution_count": 71,
   "metadata": {},
   "outputs": [],
   "source": [
    "counter = 0\n",
    "for i in range(0,len(images)):\n",
    "    counter+=1\n",
    "    img = cv2.imread(base_img_path+images[i])\n",
    "    # img = cv2.imread(base_img_path+'0_0.png')\n",
    "    # img = cv2.imread(base_img_path+'0_3.png')\n",
    "    dummy = np.zeros(img.shape, img.dtype)\n",
    "    dummy[dummy==0]=255\n",
    "\n",
    "    hsv_MIN = np.array([0, 110, 0],np.uint8)\n",
    "    hsv_MAX = np.array([255, 255, 155],np.uint8)\n",
    "    hsv_img = cv2.cvtColor(img,cv2.COLOR_BGR2HSV)\n",
    "    frame_hsv = cv2.inRange(hsv_img, hsv_MIN, hsv_MAX)\n",
    "    hsv = get_components(frame_hsv)\n",
    "\n",
    "\n",
    "    bgr_MIN = np.array([0, 0, 0],np.uint8)\n",
    "    bgr_MAX = np.array([255, 150, 110],np.uint8)\n",
    "    #bgr by default\n",
    "    bgr_img = copy.deepcopy(img)\n",
    "    frame_bgr = cv2.inRange(bgr_img, bgr_MIN, bgr_MAX)\n",
    "    bgr = get_components(frame_bgr)\n",
    "\n",
    "\n",
    "\n",
    "    lab_MIN = np.array([0, 0, 0],np.uint8)\n",
    "    lab_MAX = np.array([120, 160, 110],np.uint8)\n",
    "    #bgr by default\n",
    "    lab_img = cv2.cvtColor(img,cv2.COLOR_BGR2LAB)\n",
    "    frame_lab = cv2.inRange(lab_img, lab_MIN, lab_MAX)\n",
    "    lab = get_components(frame_lab)\n",
    "\n",
    "\n",
    "    luv_MIN = np.array([0, 0, 0],np.uint8)\n",
    "    luv_MAX = np.array([100, 110, 255],np.uint8)\n",
    "    #bgr by default\n",
    "    luv_img = cv2.cvtColor(img,cv2.COLOR_BGR2LUV)\n",
    "    frame_luv = cv2.inRange(luv_img, luv_MIN, luv_MAX)\n",
    "    luv = get_components(frame_luv)\n",
    "\n",
    "\n",
    "    hls_MIN = np.array([0, 0, 50],np.uint8)\n",
    "    hls_MAX = np.array([160, 115, 255],np.uint8)\n",
    "    #bgr by default\n",
    "    hls_img = cv2.cvtColor(img,cv2.COLOR_BGR2HLS)\n",
    "    frame_hls = cv2.inRange(hls_img, hls_MIN, hls_MAX)\n",
    "    hls = get_components(frame_hls)\n",
    "\n",
    "\n",
    "    ycbcr_MIN = np.array([0, 0, 0],np.uint8)\n",
    "    ycbcr_MAX = np.array([150, 175, 145],np.uint8)\n",
    "    #bgr by default\n",
    "    ycbcr_img = cv2.cvtColor(img,cv2.COLOR_BGR2YCrCb)\n",
    "    frame_ycbcr = cv2.inRange(ycbcr_img, ycbcr_MIN, ycbcr_MAX)\n",
    "    ycbcr = get_components(frame_ycbcr)#reveresd h-component and e-component\n",
    "\n",
    "    r1 = cv2.hconcat([img,bgr[0],hsv[0],lab[0],luv[0],hls[0],ycbcr[1]])\n",
    "    r2 = cv2.hconcat([dummy,bgr[1],hsv[1],lab[1],luv[1],hls[1],ycbcr[0]])\n",
    "\n",
    "    final_img = cv2.vconcat([r1,r2])\n",
    "\n",
    "    if i == 0 or result is None:\n",
    "        result = final_img\n",
    "    else:\n",
    "        result = cv2.vconcat([result,final_img])\n",
    "\n",
    "    if counter%10==0 and counter!=0:\n",
    "        cv2.imwrite(\"color_filter\"+str(counter)+\".png\",result)\n",
    "        result = None\n",
    "    if counter==len(images):\n",
    "        cv2.imwrite(\"color_filter\"+str(counter)+\".png\",result)\n",
    "        result=None"
   ]
  }
 ],
 "metadata": {
  "interpreter": {
   "hash": "916dbcbb3f70747c44a77c7bcd40155683ae19c65e1c03b4aa3499c5328201f1"
  },
  "kernelspec": {
   "display_name": "Python 3.8.10 64-bit",
   "language": "python",
   "name": "python3"
  },
  "language_info": {
   "codemirror_mode": {
    "name": "ipython",
    "version": 3
   },
   "file_extension": ".py",
   "mimetype": "text/x-python",
   "name": "python",
   "nbconvert_exporter": "python",
   "pygments_lexer": "ipython3",
   "version": "3.8.10"
  },
  "orig_nbformat": 4
 },
 "nbformat": 4,
 "nbformat_minor": 2
}
